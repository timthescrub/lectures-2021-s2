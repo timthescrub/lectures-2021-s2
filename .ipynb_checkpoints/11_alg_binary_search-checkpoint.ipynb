{
 "cells": [
  {
   "cell_type": "markdown",
   "metadata": {
    "slideshow": {
     "slide_type": "slide"
    }
   },
   "source": [
    "# Foundations of Computational Economics #11\n",
    "\n",
    "by Fedor Iskhakov, ANU\n",
    "\n",
    "<img src=\"_static/img/dag3logo.png\" style=\"width:256px;\">"
   ]
  },
  {
   "cell_type": "markdown",
   "metadata": {
    "slideshow": {
     "slide_type": "fragment"
    }
   },
   "source": [
    "## Binary search algorithm\n",
    "\n",
    "<img src=\"_static/img/lab.png\" style=\"width:64px;\">"
   ]
  },
  {
   "cell_type": "markdown",
   "metadata": {
    "slideshow": {
     "slide_type": "subslide"
    }
   },
   "source": [
    "<img src=\"_static/img/youtube.png\" style=\"width:65px;\">\n",
    "\n",
    "[https://youtu.be/eTmQBpN-eyk](https://youtu.be/eTmQBpN-eyk)\n",
    "\n",
    "Description: Binary search. Other divide and conquer algorithms. Recursion."
   ]
  },
  {
   "cell_type": "markdown",
   "metadata": {
    "slideshow": {
     "slide_type": "slide"
    }
   },
   "source": [
    "### Divide and conquer algorithms (DAC)\n",
    "\n",
    "1. **Divide** the problem into subproblems  \n",
    "1. **Solve/conquer** each subproblem recursively  \n",
    "1. **Combine** solutions of subproblems together  "
   ]
  },
  {
   "cell_type": "code",
   "execution_count": 8,
   "metadata": {
    "hide-output": false,
    "slideshow": {
     "slide_type": "slide"
    }
   },
   "outputs": [
    {
     "name": "stdout",
     "output_type": "stream",
     "text": [
      "Dividing [0, 1, 2, 3, 4] into [0, 1] and [2, 3, 4]\n",
      "Dividing [0, 1] into [0] and [1]\n",
      "Sum of list of one element is 0\n",
      "Sum of list of one element is 1\n",
      "returning the sum of [0, 1] = 1\n",
      "Dividing [2, 3, 4] into [2] and [3, 4]\n",
      "Sum of list of one element is 2\n",
      "Dividing [3, 4] into [3] and [4]\n",
      "Sum of list of one element is 3\n",
      "Sum of list of one element is 4\n",
      "returning the sum of [3, 4] = 7\n",
      "returning the sum of [2, 3, 4] = 9\n",
      "returning the sum of [0, 1, 2, 3, 4] = 10\n"
     ]
    },
    {
     "data": {
      "text/plain": [
       "10"
      ]
     },
     "execution_count": 8,
     "metadata": {},
     "output_type": "execute_result"
    }
   ],
   "source": [
    "# simple example of DAC algorithm\n",
    "def sum_list(l):\n",
    "    '''Summing the elements of the list using DAC algorithm\n",
    "    '''\n",
    "    if len(l) == 1:\n",
    "        print('Sum of list of one element is {}'.format(l[0]))\n",
    "        return l[0]\n",
    "    j = len(l)//2\n",
    "    print('Dividing {} into {} and {}'.format(l,l[:j],l[j:]))\n",
    "    thesum = sum_list(l[:j]) + sum_list(l[j:])\n",
    "    print('returning the sum of {} = {}'.format(l,thesum))\n",
    "    return thesum\n",
    "    pass\n",
    "\n",
    "sum_list(list(range(5)))"
   ]
  },
  {
   "cell_type": "code",
   "execution_count": null,
   "metadata": {
    "hide-output": false,
    "slideshow": {
     "slide_type": "slide"
    }
   },
   "outputs": [],
   "source": [
    "# simple example of DAC algorithm\n",
    "def sum_list(l):\n",
    "    '''Summing the elements of the list using DAC algorithm\n",
    "    '''\n",
    "    if len(l)==1:\n",
    "        return l[0]  # sum of list of one element\n",
    "    j = len(l)//2  # devide list in two\n",
    "    print('dividing %r into %r and %r' % (l,l[:j],l[j:]), flush=True)\n",
    "    s = sum_list(l[:j]) + sum_list(l[j:])\n",
    "    print('sum of %r is %1.2f' % (l,s), flush=True)\n",
    "    return s\n",
    "\n",
    "sum_list(list(range(16)))"
   ]
  },
  {
   "cell_type": "markdown",
   "metadata": {
    "slideshow": {
     "slide_type": "slide"
    }
   },
   "source": [
    "### Complexity of DAC\n",
    "\n",
    "<img src=\"_static/img/binary.png\" style=\"width:600px;\">"
   ]
  },
  {
   "cell_type": "markdown",
   "metadata": {
    "slideshow": {
     "slide_type": "slide"
    }
   },
   "source": [
    "### Typical DAC algorithms\n",
    "\n",
    "- Binary search  \n",
    "- Quicksort and merge sort  \n",
    "- Fast Fourier transform (FTT) algorithm  \n",
    "- Karatsuba fast multiplication algorithm  "
   ]
  },
  {
   "cell_type": "markdown",
   "metadata": {
    "slideshow": {
     "slide_type": "slide"
    }
   },
   "source": [
    "### Binary search\n",
    "\n",
    "Inputs: sorted list of numbers, and a value to find\n",
    "\n",
    "1. Find middle point  \n",
    "1. If the sought value is below, reduce the list to the lower half  \n",
    "1. If the sought value is above, reduce the list to the upper half  "
   ]
  },
  {
   "cell_type": "code",
   "execution_count": 19,
   "metadata": {
    "hide-output": false,
    "slideshow": {
     "slide_type": "slide"
    }
   },
   "outputs": [
    {
     "data": {
      "text/plain": [
       "1"
      ]
     },
     "execution_count": 19,
     "metadata": {},
     "output_type": "execute_result"
    }
   ],
   "source": [
    "#def binary_search(list=[0,1],val=0):\n",
    "    \n",
    "    i1, i2 = 0, len(list)-1\n",
    "    j = (i1+i2)//2\n",
    "    \n",
    "    while list[j] != val:\n",
    "        if list[j] > val:\n",
    "            i2 = j\n",
    "        else:\n",
    "            i1 = j\n",
    "        j = (i1+i2)//2\n",
    "    return j\n",
    "binary_search([4,6,8,10,34,67],6)"
   ]
  },
  {
   "cell_type": "code",
   "execution_count": 25,
   "metadata": {
    "hide-output": false,
    "slideshow": {
     "slide_type": "slide"
    }
   },
   "outputs": [
    {
     "name": "stdout",
     "output_type": "stream",
     "text": [
      "list = [ 7 10 25 42 44 48 49 51 52 59 68 72 73 74 82 85]\n",
      "searching for [42]\n",
      "step 0: gr[i1=0]=7, gr[i2=15]=85, gr[j=7]=51\n",
      "step 1: gr[i1=0]=7, gr[i2=7]=51, gr[j=3]=42\n",
      "Searched for 42, found x[3]=42\n"
     ]
    }
   ],
   "source": [
    "import numpy as np\n",
    "N = 16\n",
    "# random sorted sequence of integers up to 100\n",
    "x = np.random.choice(100,size=N,replace=False)\n",
    "x = np.sort(x)\n",
    "# random choice of one number/index\n",
    "k0 = np.random.choice(N,size=1)\n",
    "\n",
    "k1 = binary_search(list=x,val=x[k0])\n",
    "print(\"Searched for %d, found x[%d]=%d\"%(x[k0],k1,x[k1]))"
   ]
  },
  {
   "cell_type": "code",
   "execution_count": 24,
   "metadata": {
    "hide-output": false,
    "slideshow": {
     "slide_type": "slide"
    }
   },
   "outputs": [
    {
     "name": "stdout",
     "output_type": "stream",
     "text": [
      "list = [4, 6, 8, 10, 34, 67]\n",
      "searching for 6\n",
      "step 0: gr[i1=0]=4, gr[i2=5]=67, gr[j=2]=8\n",
      "step 1: gr[i1=0]=4, gr[i2=2]=8, gr[j=1]=6\n"
     ]
    },
    {
     "data": {
      "text/plain": [
       "1"
      ]
     },
     "execution_count": 24,
     "metadata": {},
     "output_type": "execute_result"
    }
   ],
   "source": [
    "def binary_search(list=[0,1],val=0,verbose=True):\n",
    "    '''Returns the index of val on the sorted list\n",
    "    Optional delay introduces a delay (in microsecond)\n",
    "    '''\n",
    "    i1,i2 = 0,len(list)-1\n",
    "    if val==list[i1]: return i1\n",
    "    if val==list[i2]: return i2\n",
    "    j=(i1+i2)//2\n",
    "    if verbose:\n",
    "        print('list =',list)\n",
    "        print('searching for',val)\n",
    "        k=0\n",
    "        print('step %d: gr[i1=%d]=%d, gr[i2=%d]=%d, gr[j=%d]=%d' % (k,i1,list[i1],i2,list[i2],j,list[j]))\n",
    "    while list[j]!=val:\n",
    "        if val>list[j]:\n",
    "            i1 = j\n",
    "        else:\n",
    "            i2 = j\n",
    "        j = (i1+i2)//2  # divide in half\n",
    "        if verbose:\n",
    "            k +=1\n",
    "            print('step %d: gr[i1=%d]=%d, gr[i2=%d]=%d, gr[j=%d]=%d' % (k,i1,list[i1],i2,list[i2],j,list[j]))\n",
    "    return j\n",
    "\n",
    "binary_search([4,6,8,10,34,67],6)"
   ]
  },
  {
   "cell_type": "markdown",
   "metadata": {
    "slideshow": {
     "slide_type": "slide"
    }
   },
   "source": [
    "#### Further learning resources\n",
    "\n",
    "- Divide and conquer algorithms by Brandon Skerritt\n",
    "  [https://skerritt.blog/divide-and-conquer-algorithms/](https://skerritt.blog/divide-and-conquer-algorithms/)  "
   ]
  },
  {
   "cell_type": "code",
   "execution_count": null,
   "metadata": {},
   "outputs": [],
   "source": []
  }
 ],
 "metadata": {
  "celltoolbar": "Slideshow",
  "date": 1627474985.877383,
  "filename": "11_alg_binary_search.rst",
  "kernelspec": {
   "display_name": "Python 3",
   "language": "python",
   "name": "python3"
  },
  "language_info": {
   "codemirror_mode": {
    "name": "ipython",
    "version": 3
   },
   "file_extension": ".py",
   "mimetype": "text/x-python",
   "name": "python",
   "nbconvert_exporter": "python",
   "pygments_lexer": "ipython3",
   "version": "3.7.4"
  },
  "title": "Foundations of Computational Economics #11"
 },
 "nbformat": 4,
 "nbformat_minor": 4
}
