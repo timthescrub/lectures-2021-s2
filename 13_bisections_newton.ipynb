{
 "cells": [
  {
   "cell_type": "markdown",
   "metadata": {
    "slideshow": {
     "slide_type": "slide"
    }
   },
   "source": [
    "# Foundations of Computational Economics #13\n",
    "\n",
    "by Fedor Iskhakov, ANU\n",
    "\n",
    "<img src=\"_static/img/dag3logo.png\" style=\"width:256px;\">"
   ]
  },
  {
   "cell_type": "markdown",
   "metadata": {
    "slideshow": {
     "slide_type": "fragment"
    }
   },
   "source": [
    "## Two very important algorithms for solving equations\n",
    "\n",
    "<img src=\"_static/img/lab.png\" style=\"width:64px;\">"
   ]
  },
  {
   "cell_type": "markdown",
   "metadata": {
    "slideshow": {
     "slide_type": "subslide"
    }
   },
   "source": [
    "<img src=\"_static/img/youtube.png\" style=\"width:65px;\">\n",
    "\n",
    "[https://youtu.be/gUdYS5PmvWo](https://youtu.be/gUdYS5PmvWo)\n",
    "\n",
    "Description: Bisections and Newton-Raphson methods. Solving equations of one variable. Accuracy of solution. Rates of convergence."
   ]
  },
  {
   "cell_type": "markdown",
   "metadata": {
    "slideshow": {
     "slide_type": "slide"
    }
   },
   "source": [
    "### Classic algorithm for equation solving\n",
    "\n",
    "1. Bisection method  \n",
    "1. Newton-Raphson method  \n",
    "\n",
    "\n",
    "Solve equations of the form $ f(x) = 0 $\n",
    "\n",
    "Focus on the scalar case today."
   ]
  },
  {
   "cell_type": "markdown",
   "metadata": {
    "slideshow": {
     "slide_type": "slide"
    }
   },
   "source": [
    "#### Bisection method for solving equations\n",
    "\n",
    "Solve equation $ f(x)=0 $, conditional on $ x \\in [a,b] \\subset \\mathbb{R} $ such that $ f(a)f(b)<0 $\n",
    "\n",
    "Algorithm: similar to binary search, but in **continuous space**."
   ]
  },
  {
   "cell_type": "code",
   "execution_count": 14,
   "metadata": {
    "hide-output": false,
    "slideshow": {
     "slide_type": "slide"
    }
   },
   "outputs": [],
   "source": [
    "def bisection(f,a=0,b=1,tol=1e-6,maxiter=100,callback=None):\n",
    "    '''Bisection method for solving equation f(x)=0\n",
    "    on the interval [a,b], with given tolerance and number of iterations.\n",
    "    Callback function is invoked at each iteration if given.\n",
    "    '''\n",
    "    \n",
    "    if f(a)*f(b) > 0:\n",
    "            return ValueError('The function has to have opposite signs at the boundaries')\n",
    "    for i in range(maxiter):\n",
    "        err = abs(a-b)\n",
    "        x = (a+b)/2\n",
    "        if callback != None:\n",
    "            callback(x=x,iter=i,a = a, b =b,err=err)\n",
    "        if err < tol:\n",
    "            break\n",
    "        if f(a) * f(x)>0:\n",
    "            a = x\n",
    "        else:\n",
    "            b = x\n",
    "    else:\n",
    "        raise RuntimeError('Failed to converge in {} iterations'.format(maxiter))\n",
    "    return x"
   ]
  },
  {
   "cell_type": "code",
   "execution_count": 19,
   "metadata": {
    "hide-output": false,
    "slideshow": {
     "slide_type": "slide"
    }
   },
   "outputs": [
    {
     "name": "stdout",
     "output_type": "stream",
     "text": [
      "-1.75\n",
      "-1.125\n",
      "-0.8125\n",
      "-0.96875\n",
      "-1.046875\n",
      "-1.0078125\n",
      "-0.98828125\n",
      "-0.998046875\n",
      "-1.0029296875\n",
      "-1.00048828125\n",
      "-0.999267578125\n",
      "-0.9998779296875\n",
      "-1.00018310546875\n",
      "-1.000030517578125\n",
      "-0.9999542236328125\n",
      "-0.9999923706054688\n",
      "-1.0000114440917969\n",
      "-1.0000019073486328\n",
      "-0.9999971389770508\n",
      "-0.9999995231628418\n",
      "-1.0000007152557373\n",
      "-1.0000001192092896\n",
      "-0.9999998211860657\n",
      "-0.9999999701976776\n",
      "-1.0000000447034836\n",
      "-1.0000000074505806\n",
      "-0.9999999888241291\n",
      "-0.9999999981373549\n",
      "-1.0000000027939677\n",
      "-1.0000000004656613\n",
      "-0.9999999993015081\n",
      "-0.9999999998835847\n",
      "-1.000000000174623\n",
      "-1.0000000000291038\n",
      "-0.9999999999563443\n",
      "-0.999999999992724\n",
      "Solution is x=-1.000, f(x)=-0.000000000051\n"
     ]
    }
   ],
   "source": [
    "f = lambda x: -4*x**3+5*x+1\n",
    "a,b = -3,-.5  # upper and lower limits\n",
    "\n",
    "def printiter(x,err,**kwargs):\n",
    "    print(x)\n",
    "    \n",
    "x = bisection(f,a,b,callback = printiter, tol = 1e-10)\n",
    "print('Solution is x=%1.3f, f(x)=%1.12f' % (x,f(x)))"
   ]
  },
  {
   "cell_type": "code",
   "execution_count": 20,
   "metadata": {
    "hide-output": false,
    "slideshow": {
     "slide_type": "slide"
    }
   },
   "outputs": [
    {
     "name": "stdout",
     "output_type": "stream",
     "text": [
      "Converged in 23 steps\n"
     ]
    },
    {
     "data": {
      "image/png": "[encoded data removed]",
      "text/plain": [
       "<Figure size 864x576 with 1 Axes>"
      ]
     },
     "metadata": {
      "needs_background": "light"
     },
     "output_type": "display_data"
    }
   ],
   "source": [
    "# make nice plot\n",
    "import numpy as np\n",
    "import matplotlib.pyplot as plt\n",
    "%matplotlib inline\n",
    "plt.rcParams['figure.figsize'] = [12, 8]\n",
    "xd = np.linspace(a,b,1000)  # x grid\n",
    "plt.plot(xd,f(xd),c='red')  # plot the function\n",
    "plt.plot([a,b],[0,0],c='black')  # plot zero line\n",
    "ylim=[f(a),min(f(b),0)]\n",
    "plt.plot([a,a],ylim,c='grey')  # plot lower bound\n",
    "plt.plot([b,b],ylim,c='grey')  # plot upper bound\n",
    "def plot_step(x,**kwargs):\n",
    "    plot_step.counter += 1\n",
    "    plt.plot([x,x],ylim,c='grey')\n",
    "plot_step.counter = 0  # new public attribute\n",
    "bisection(f,a,b,callback=plot_step)\n",
    "print('Converged in %d steps'%plot_step.counter)\n",
    "plt.show()"
   ]
  },
  {
   "cell_type": "code",
   "execution_count": null,
   "metadata": {
    "hide-output": false,
    "slideshow": {
     "slide_type": "slide"
    }
   },
   "outputs": [],
   "source": [
    "def bisection(f,a=0,b=1,tol=1e-6,maxiter=100,callback=None):\n",
    "    '''Bisection method for solving equation f(x)=0\n",
    "    on the interval [a,b], with given tolerance and number of iterations.\n",
    "    Callback function is invoked at each iteration if given.\n",
    "    '''\n",
    "    if f(a)*f(b)>0:\n",
    "        raise ValueError('Function has the same sign at the bounds')\n",
    "    for i in range(maxiter):\n",
    "        err = abs(b-a)\n",
    "        if err<tol: break\n",
    "        x = (a+b)/2\n",
    "        a,b = (x,b) if f(a)*f(x)>0 else (a,x)\n",
    "        if callback != None: callback(err=err,x=x,iter=i)\n",
    "    else:\n",
    "        raise RuntimeError('Failed to converge in %d iterations'%maxiter)\n",
    "    return x"
   ]
  },
  {
   "cell_type": "markdown",
   "metadata": {
    "slideshow": {
     "slide_type": "slide"
    }
   },
   "source": [
    "#### Newton-Raphson (Newton) method\n",
    "\n",
    "General form $ f(x)=0 $\n",
    "\n",
    "- Equation solving  \n",
    "- Finding maximum/minimum based on FOC, then $ f(x)=Q'(x) $  \n",
    "\n",
    "\n",
    "Algorithm:\n",
    "1. Start with some good guess $ x_0 $ not too far from the solution\n",
    "2. Newton step: $ x_{i+1} = x_i - \\frac{f(x_i)}{f'(x_i)} $\n",
    "3. Iterate until convergence in some metric"
   ]
  },
  {
   "cell_type": "markdown",
   "metadata": {
    "slideshow": {
     "slide_type": "slide"
    }
   },
   "source": [
    "#### Derivation for Newton method using Taylor series expansion\n",
    "\n",
    "$$\n",
    "f(x) = \\sum_{k=0}^{\\infty} \\frac{f^{(k)}(x_0)}{k!} (x-x_0)^k\n",
    "$$\n",
    "\n",
    "Take first two terms, assume $ f(x) $ is solution, and let\n",
    "$ x_0=x_i $ and $ x=x_{i+1} $\n",
    "\n",
    "$$\n",
    "0 = f(x) = f(x_i) + f'(x_i) (x_{i+1}-x_i) \\quad \\Rightarrow \\quad x_{i+1} = x_i - \\frac{f(x_i)}{f'(x_i)}\n",
    "$$"
   ]
  },
  {
   "cell_type": "code",
   "execution_count": 25,
   "metadata": {
    "hide-output": false,
    "slideshow": {
     "slide_type": "slide"
    }
   },
   "outputs": [],
   "source": [
    "def newton(fun,grad,x0,tol=1e-6,maxiter=100,callback=None):\n",
    "    '''Newton method for solving equation f(x)=0\n",
    "    with given tolerance and number of iterations.\n",
    "    Callback function is invoked at each iteration if given.\n",
    "    '''\n",
    "    \n",
    "    for i in range (maxiter):\n",
    "        x1 = x0 - fun(x0)/grad(x0)\n",
    "        err = abs(x1 - x0)\n",
    "        if callback != None: callback(x0=x0, x1=x1, err=err, iter = i)\n",
    "        if err < tol:\n",
    "            break\n",
    "        x0 = x1 \n",
    "    else:\n",
    "        raise RuntimeError('Failed to converge in {} interations'.format(maxiter))\n",
    "    return x1"
   ]
  },
  {
   "cell_type": "code",
   "execution_count": 28,
   "metadata": {
    "hide-output": false,
    "slideshow": {
     "slide_type": "slide"
    }
   },
   "outputs": [
    {
     "name": "stdout",
     "output_type": "stream",
     "text": [
      "0 x0=-2.5000000000000000 x1=-1.7714285714285714\n",
      "1 x0=-1.7714285714285714 x1=-1.3311494495055727\n",
      "2 x0=-1.3311494495055727 x1=-1.0987751438398277\n",
      "3 x0=-1.0987751438398277 x1=-1.0131526300716971\n",
      "4 x0=-1.0131526300716971 x1=-1.0002861679668720\n",
      "5 x0=-1.0002861679668720 x1=-1.0000001402755980\n",
      "6 x0=-1.0000001402755980 x1=-1.0000000000000338\n",
      "Solution is x=-1.000, f(x)=0.000000000000\n"
     ]
    }
   ],
   "source": [
    "f = lambda x: -4*x**3+5*x+1\n",
    "g = lambda x: -12*x**2+5\n",
    "\n",
    "def printiter(x0,x1,iter,**kwargs):\n",
    "    print('%d x0=%1.16f x1=%1.16f'%(iter,x0,x1))\n",
    "\n",
    "\n",
    "x = newton(f,g,x0=-2.5,callback=printiter)\n",
    "print('Solution is x=%1.3f, f(x)=%1.12f' % (x,f(x)))"
   ]
  },
  {
   "cell_type": "code",
   "execution_count": 29,
   "metadata": {
    "hide-output": false,
    "slideshow": {
     "slide_type": "slide"
    }
   },
   "outputs": [
    {
     "data": {
      "image/png": "[encoded data removed]",
      "text/plain": [
       "<Figure size 432x288 with 1 Axes>"
      ]
     },
     "metadata": {
      "needs_background": "light"
     },
     "output_type": "display_data"
    },
    {
     "data": {
      "image/png": "[encoded data removed]",
      "text/plain": [
       "<Figure size 432x288 with 1 Axes>"
      ]
     },
     "metadata": {
      "needs_background": "light"
     },
     "output_type": "display_data"
    },
    {
     "data": {
      "image/png": "[encoded data removed]",
      "text/plain": [
       "<Figure size 432x288 with 1 Axes>"
      ]
     },
     "metadata": {
      "needs_background": "light"
     },
     "output_type": "display_data"
    },
    {
     "data": {
      "image/png": "[encoded data removed]",
      "text/plain": [
       "<Figure size 432x288 with 1 Axes>"
      ]
     },
     "metadata": {
      "needs_background": "light"
     },
     "output_type": "display_data"
    },
    {
     "data": {
      "image/png": "[encoded data removed]",
      "text/plain": [
       "<Figure size 432x288 with 1 Axes>"
      ]
     },
     "metadata": {
      "needs_background": "light"
     },
     "output_type": "display_data"
    },
    {
     "data": {
      "image/png": "[encoded data removed]",
      "text/plain": [
       "<Figure size 432x288 with 1 Axes>"
      ]
     },
     "metadata": {
      "needs_background": "light"
     },
     "output_type": "display_data"
    },
    {
     "data": {
      "image/png": "[encoded data removed]",
      "text/plain": [
       "<Figure size 432x288 with 1 Axes>"
      ]
     },
     "metadata": {
      "needs_background": "light"
     },
     "output_type": "display_data"
    },
    {
     "name": "stdout",
     "output_type": "stream",
     "text": [
      "Converged in 7 steps\n"
     ]
    }
   ],
   "source": [
    "# make nice seriest of plots\n",
    "a,b = -3,-.5  # upper and lower limits\n",
    "xd = np.linspace(a,b,1000)  # x grid\n",
    "def plot_step(x0,x1,iter,**kwargs):\n",
    "    plot_step.counter += 1\n",
    "    if iter<10:\n",
    "        plt.plot(xd,f(xd),c='red')  # plot the function\n",
    "        plt.plot([a,b],[0,0],c='black')  # plot zero line\n",
    "        ylim = [min(f(b),0),f(a)]\n",
    "        plt.plot([x0,x0],ylim,c='grey') # plot x0\n",
    "        l = lambda z: g(x0)*(z - x1)\n",
    "        plt.plot(xd,l(xd),c='green')  # plot the function\n",
    "        plt.ylim(bottom=10*f(b))\n",
    "        plt.title('Iteration %d'%(iter+1))\n",
    "        plt.show()\n",
    "plot_step.counter = 0  # new public attribute\n",
    "newton(f,g,x0=-2.5,callback=plot_step)\n",
    "print('Converged in %d steps'%plot_step.counter)"
   ]
  },
  {
   "cell_type": "code",
   "execution_count": 30,
   "metadata": {
    "hide-output": false,
    "slideshow": {
     "slide_type": "slide"
    }
   },
   "outputs": [],
   "source": [
    "def newton(fun,grad,x0,tol=1e-6,maxiter=100,callback=None):\n",
    "    '''Newton method for solving equation f(x)=0\n",
    "    with given tolerance and number of iterations.\n",
    "    Callback function is invoked at each iteration if given.\n",
    "    '''\n",
    "    for i in range(maxiter):\n",
    "        x1 = x0 - fun(x0)/grad(x0)\n",
    "        err = abs(x1-x0)\n",
    "        if callback != None: callback(err=err,x0=x0,x1=x1,iter=i)\n",
    "        if err<tol: break\n",
    "        x0 = x1\n",
    "    else:\n",
    "        raise RuntimeError('Failed to converge in %d iterations'%maxiter)\n",
    "    return (x0+x1)/2"
   ]
  },
  {
   "cell_type": "markdown",
   "metadata": {
    "slideshow": {
     "slide_type": "slide"
    }
   },
   "source": [
    "#### Rate of convergence of the two methods\n",
    "\n",
    "- How fast does a solution method converge on the root of the equation?  \n",
    "- Rate of convergence = the rate of decrease of the bias (difference between current guess and the solution)  \n",
    "- Can be approximated by the rate of decrease of the error in the stopping criterion  \n",
    "\n",
    "\n",
    "Bisections: **linear convergence**\n",
    "\n",
    "Newton: **quadratic convergence**"
   ]
  },
  {
   "cell_type": "code",
   "execution_count": 31,
   "metadata": {
    "hide-output": false,
    "slideshow": {
     "slide_type": "slide"
    }
   },
   "outputs": [
    {
     "name": "stdout",
     "output_type": "stream",
     "text": [
      "Newton method\n",
      "   0:  x = -2.50000000000000  err = 7.285714e-01\n",
      "   1:  x = -1.77142857142857  err = 4.402791e-01\n",
      "   2:  x = -1.33114944950557  err = 2.323743e-01\n",
      "   3:  x = -1.09877514383983  err = 8.562251e-02\n",
      "   4:  x = -1.01315263007170  err = 1.286646e-02\n",
      "   5:  x = -1.00028616796687  err = 2.860277e-04\n",
      "   6:  x = -1.00000014027560  err = 1.402756e-07\n",
      "   7:  x = -1.00000000000003  err = 3.375078e-14\n",
      "Bisection method\n",
      "   0:  x = -1.75000000000000  err = 2.500000e+00\n",
      "   1:  x = -1.12500000000000  err = 1.250000e+00\n",
      "   2:  x = -0.81250000000000  err = 6.250000e-01\n",
      "   3:  x = -0.96875000000000  err = 3.125000e-01\n",
      "   4:  x = -1.04687500000000  err = 1.562500e-01\n",
      "   5:  x = -1.00781250000000  err = 7.812500e-02\n",
      "   6:  x = -0.98828125000000  err = 3.906250e-02\n",
      "   7:  x = -0.99804687500000  err = 1.953125e-02\n",
      "   8:  x = -1.00292968750000  err = 9.765625e-03\n",
      "   9:  x = -1.00048828125000  err = 4.882812e-03\n",
      "  10:  x = -0.99926757812500  err = 2.441406e-03\n",
      "  11:  x = -0.99987792968750  err = 1.220703e-03\n",
      "  12:  x = -1.00018310546875  err = 6.103516e-04\n",
      "  13:  x = -1.00003051757812  err = 3.051758e-04\n",
      "  14:  x = -0.99995422363281  err = 1.525879e-04\n",
      "  15:  x = -0.99999237060547  err = 7.629395e-05\n",
      "  16:  x = -1.00001144409180  err = 3.814697e-05\n",
      "  17:  x = -1.00000190734863  err = 1.907349e-05\n",
      "  18:  x = -0.99999713897705  err = 9.536743e-06\n",
      "  19:  x = -0.99999952316284  err = 4.768372e-06\n",
      "  20:  x = -1.00000071525574  err = 2.384186e-06\n",
      "  21:  x = -1.00000011920929  err = 1.192093e-06\n",
      "  22:  x = -0.99999982118607  err = 5.960464e-07\n",
      "  23:  x = -0.99999997019768  err = 2.980232e-07\n",
      "  24:  x = -1.00000004470348  err = 1.490116e-07\n",
      "  25:  x = -1.00000000745058  err = 7.450581e-08\n",
      "  26:  x = -0.99999998882413  err = 3.725290e-08\n",
      "  27:  x = -0.99999999813735  err = 1.862645e-08\n",
      "  28:  x = -1.00000000279397  err = 9.313226e-09\n",
      "  29:  x = -1.00000000046566  err = 4.656613e-09\n",
      "  30:  x = -0.99999999930151  err = 2.328306e-09\n",
      "  31:  x = -0.99999999988358  err = 1.164153e-09\n",
      "  32:  x = -1.00000000017462  err = 5.820766e-10\n",
      "  33:  x = -1.00000000002910  err = 2.910383e-10\n",
      "  34:  x = -0.99999999995634  err = 1.455192e-10\n",
      "  35:  x = -0.99999999999272  err = 7.275958e-11\n"
     ]
    },
    {
     "data": {
      "text/plain": [
       "-0.999999999992724"
      ]
     },
     "execution_count": 31,
     "metadata": {},
     "output_type": "execute_result"
    }
   ],
   "source": [
    "def print_err(iter,err,**kwargs):\n",
    "    x = kwargs['x'] if 'x' in kwargs.keys() else kwargs['x0']\n",
    "    print('{:4d}:  x = {:17.14f}  err = {:8.6e}'.format(iter,x,err))\n",
    "\n",
    "print('Newton method')\n",
    "newton(f,g,x0=-2.5,callback=print_err,tol=1e-10)\n",
    "\n",
    "print('Bisection method')\n",
    "bisection(f,a=-3,b=-0.5,callback=print_err,tol=1e-10)"
   ]
  },
  {
   "cell_type": "markdown",
   "metadata": {
    "slideshow": {
     "slide_type": "slide"
    }
   },
   "source": [
    "#### Measuring complexity of Newton and bisection methods\n",
    "\n",
    "- What is the size of input $ n $?  \n",
    "- Desired precision of the solution!  \n",
    "- Thus, attention to the errors in the solution as algorithm proceeds  \n",
    "- Rate of convergence is part of the computational complexity of the algorithms  "
   ]
  },
  {
   "cell_type": "markdown",
   "metadata": {
    "slideshow": {
     "slide_type": "slide"
    }
   },
   "source": [
    "#### Computational complexity of Newton method\n",
    "\n",
    "- Calculating a root of a function f(x) **with n-digit precision**  \n",
    "- Provided that a good initial approximation is known  \n",
    "- Is $ O((logn)F(n)) $, where $ F(n) $ is the cost of  \n",
    "- calculating $ f(x)/f'(x) $ with $ n $-digit precision  "
   ]
  },
  {
   "cell_type": "markdown",
   "metadata": {
    "slideshow": {
     "slide_type": "slide"
    }
   },
   "source": [
    "### Further learning resources\n",
    "\n",
    "- On computational complexity of Newton method\n",
    "  [https://m.tau.ac.il/~tsirel/dump/Static/knowino.org/wiki/Newton’s_method.html#Computational_complexity](https://m.tau.ac.il/~tsirel/dump/Static/knowino.org/wiki/Newton's_method.html#Computational_complexity)  \n",
    "- “Improved convergence and complexity analysis of Newton’s method for solving equations”\n",
    "  [https://www.tandfonline.com/doi/abs/10.1080/00207160601173431?journalCode=gcom20](https://www.tandfonline.com/doi/abs/10.1080/00207160601173431?journalCode=gcom20)  "
   ]
  }
 ],
 "metadata": {
  "celltoolbar": "Slideshow",
  "date": 1627474985.919519,
  "filename": "13_bisections_newton.rst",
  "kernelspec": {
   "display_name": "Python 3",
   "language": "python",
   "name": "python3"
  },
  "language_info": {
   "codemirror_mode": {
    "name": "ipython",
    "version": 3
   },
   "file_extension": ".py",
   "mimetype": "text/x-python",
   "name": "python",
   "nbconvert_exporter": "python",
   "pygments_lexer": "ipython3",
   "version": "3.7.4"
  },
  "title": "Foundations of Computational Economics #13"
 },
 "nbformat": 4,
 "nbformat_minor": 4
}
